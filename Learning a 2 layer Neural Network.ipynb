{
 "cells": [
  {
   "cell_type": "markdown",
   "metadata": {},
   "source": [
    "### A 2 layer neural network for binary classification from scratch"
   ]
  },
  {
   "cell_type": "code",
   "execution_count": 1,
   "metadata": {},
   "outputs": [],
   "source": [
    "import numpy as np\n",
    "import matplotlib.pyplot as plt\n",
    "import numpy.matlib"
   ]
  },
  {
   "cell_type": "markdown",
   "metadata": {},
   "source": [
    "### Dataset creation"
   ]
  },
  {
   "cell_type": "code",
   "execution_count": 2,
   "metadata": {},
   "outputs": [],
   "source": [
    "c1 = [2,3]\n",
    "c2 = [13,15]\n",
    "no = 50\n",
    "Class1 = np.matlib.repmat(c1, no,1) + np.random.randn(no,len(c1))\n",
    "Class2 = np.matlib.repmat(c2, no,1) + np.random.randn(no,len(c2))\n",
    "Data = np.append(Class1,Class2,axis = 0)\n",
    "Trainlabel  = np.append(np.zeros((no,1)),np.ones((no,1)),axis = 0)"
   ]
  },
  {
   "cell_type": "code",
   "execution_count": 8,
   "metadata": {},
   "outputs": [
    {
     "data": {
      "image/png": "[encoded data removed]",
      "text/plain": [
       "<matplotlib.figure.Figure at 0x7ffb3daf8f90>"
      ]
     },
     "metadata": {},
     "output_type": "display_data"
    }
   ],
   "source": [
    "import matplotlib.pyplot as plt\n",
    "plt.plot(Class1[:,0],Class1[:,1],'ro')\n",
    "plt.plot(Class2[:,0],Class2[:,1],'bo')\n",
    "plt.ylabel('Data')\n",
    "plt.show()"
   ]
  },
  {
   "cell_type": "code",
   "execution_count": 9,
   "metadata": {},
   "outputs": [
    {
     "data": {
      "text/plain": [
       "tuple"
      ]
     },
     "execution_count": 9,
     "metadata": {},
     "output_type": "execute_result"
    }
   ],
   "source": [
    "type(Data.shape)"
   ]
  },
  {
   "cell_type": "code",
   "execution_count": 10,
   "metadata": {},
   "outputs": [],
   "source": [
    "m = Data.shape[0]\n",
    "X = Data.T\n",
    "y = Trainlabel.T"
   ]
  },
  {
   "cell_type": "markdown",
   "metadata": {},
   "source": [
    "### Neural Network parameter intialization"
   ]
  },
  {
   "cell_type": "code",
   "execution_count": 11,
   "metadata": {},
   "outputs": [
    {
     "name": "stdout",
     "output_type": "stream",
     "text": [
      "(2, 100)\n"
     ]
    }
   ],
   "source": [
    "n_i = 2\n",
    "n_h = 4\n",
    "n_l = 1\n",
    "learningrate = 0.005\n",
    "numiter = 500\n",
    "l = [n_i,n_h,n_l]\n",
    "\n",
    "W1 = np.random.randn(n_h,n_i)*0.01\n",
    "b1 = np.random.randn(n_h,1)*0.01\n",
    "W2 = np.random.randn(n_l,n_h)*0.01\n",
    "b2 = np.random.randn(n_l,1)                  \n",
    "print X.shape"
   ]
  },
  {
   "cell_type": "code",
   "execution_count": 12,
   "metadata": {},
   "outputs": [],
   "source": [
    "def sigmoid(x,play):\n",
    "    z = 1/(1+np.exp(-x))\n",
    "    if (play == \"forward\"):\n",
    "        return z\n",
    "    elif (play ==\"backward\"):\n",
    "        return z*(1-z)"
   ]
  },
  {
   "cell_type": "code",
   "execution_count": 13,
   "metadata": {},
   "outputs": [],
   "source": [
    "def relu(x,play):\n",
    "    if (play==\"forward\"):\n",
    "        return np.maximum(x,0)\n",
    "    elif (play==\"backward\"):\n",
    "        x[x<=0] = 0     \n",
    "        x[x>0] = 1     \n",
    "        return x"
   ]
  },
  {
   "cell_type": "markdown",
   "metadata": {},
   "source": [
    "### Training part of N"
   ]
  },
  {
   "cell_type": "code",
   "execution_count": 14,
   "metadata": {},
   "outputs": [
    {
     "name": "stdout",
     "output_type": "stream",
     "text": [
      "Loss for  0 th iteration => 0.700594845397\n",
      "Loss for  1 th iteration => 0.700542084205\n",
      "Loss for  2 th iteration => 0.700490605944\n",
      "Loss for  3 th iteration => 0.700440348809\n",
      "Loss for  4 th iteration => 0.700391251476\n",
      "Loss for  5 th iteration => 0.700343253085\n",
      "Loss for  6 th iteration => 0.700296293237\n",
      "Loss for  7 th iteration => 0.700250311981\n",
      "Loss for  8 th iteration => 0.700205249808\n",
      "Loss for  9 th iteration => 0.700161047642\n",
      "Loss for  10 th iteration => 0.700117646832\n",
      "Loss for  11 th iteration => 0.700074989145\n",
      "Loss for  12 th iteration => 0.70003301676\n",
      "Loss for  13 th iteration => 0.699991672261\n",
      "Loss for  14 th iteration => 0.699950898633\n",
      "Loss for  15 th iteration => 0.699910639251\n",
      "Loss for  16 th iteration => 0.699870837882\n",
      "Loss for  17 th iteration => 0.699831438676\n",
      "Loss for  18 th iteration => 0.699792386163\n",
      "Loss for  19 th iteration => 0.699753625248\n",
      "Loss for  20 th iteration => 0.699715101208\n",
      "Loss for  21 th iteration => 0.69967675969\n",
      "Loss for  22 th iteration => 0.699638546705\n",
      "Loss for  23 th iteration => 0.69960040863\n",
      "Loss for  24 th iteration => 0.699562292201\n",
      "Loss for  25 th iteration => 0.699524144514\n",
      "Loss for  26 th iteration => 0.699485913025\n",
      "Loss for  27 th iteration => 0.699447545543\n",
      "Loss for  28 th iteration => 0.699408990236\n",
      "Loss for  29 th iteration => 0.699370195626\n",
      "Loss for  30 th iteration => 0.699331110589\n",
      "Loss for  31 th iteration => 0.699291684359\n",
      "Loss for  32 th iteration => 0.699251866522\n",
      "Loss for  33 th iteration => 0.699211607023\n",
      "Loss for  34 th iteration => 0.699170856162\n",
      "Loss for  35 th iteration => 0.699129564598\n",
      "Loss for  36 th iteration => 0.69908768335\n",
      "Loss for  37 th iteration => 0.699045163798\n",
      "Loss for  38 th iteration => 0.699001957686\n",
      "Loss for  39 th iteration => 0.698958017124\n",
      "Loss for  40 th iteration => 0.698913294589\n",
      "Loss for  41 th iteration => 0.69886774293\n",
      "Loss for  42 th iteration => 0.69882131537\n",
      "Loss for  43 th iteration => 0.698773965509\n",
      "Loss for  44 th iteration => 0.698725647329\n",
      "Loss for  45 th iteration => 0.698676315196\n",
      "Loss for  46 th iteration => 0.698625923863\n",
      "Loss for  47 th iteration => 0.698574428478\n",
      "Loss for  48 th iteration => 0.698521784585\n",
      "Loss for  49 th iteration => 0.698467948128\n",
      "Loss for  50 th iteration => 0.698412875459\n",
      "Loss for  51 th iteration => 0.698356523341\n",
      "Loss for  52 th iteration => 0.698298848954\n",
      "Loss for  53 th iteration => 0.698239809898\n",
      "Loss for  54 th iteration => 0.698179364201\n",
      "Loss for  55 th iteration => 0.698117470322\n",
      "Loss for  56 th iteration => 0.698054087162\n",
      "Loss for  57 th iteration => 0.697989174063\n",
      "Loss for  58 th iteration => 0.69792269082\n",
      "Loss for  59 th iteration => 0.697854597682\n",
      "Loss for  60 th iteration => 0.697784855363\n",
      "Loss for  61 th iteration => 0.697713425047\n",
      "Loss for  62 th iteration => 0.697640268392\n",
      "Loss for  63 th iteration => 0.697565347541\n",
      "Loss for  64 th iteration => 0.697488625126\n",
      "Loss for  65 th iteration => 0.697410064273\n",
      "Loss for  66 th iteration => 0.697329628616\n",
      "Loss for  67 th iteration => 0.697247282296\n",
      "Loss for  68 th iteration => 0.697162989974\n",
      "Loss for  69 th iteration => 0.697076716835\n",
      "Loss for  70 th iteration => 0.696988428597\n",
      "Loss for  71 th iteration => 0.696898091516\n",
      "Loss for  72 th iteration => 0.696805672397\n",
      "Loss for  73 th iteration => 0.696711138598\n",
      "Loss for  74 th iteration => 0.69661445804\n",
      "Loss for  75 th iteration => 0.696515599214\n",
      "Loss for  76 th iteration => 0.696414531186\n",
      "Loss for  77 th iteration => 0.696311223607\n",
      "Loss for  78 th iteration => 0.696205646723\n",
      "Loss for  79 th iteration => 0.696097771374\n",
      "Loss for  80 th iteration => 0.695987569012\n",
      "Loss for  81 th iteration => 0.695875011701\n",
      "Loss for  82 th iteration => 0.695760072128\n",
      "Loss for  83 th iteration => 0.695642723609\n",
      "Loss for  84 th iteration => 0.695522940096\n",
      "Loss for  85 th iteration => 0.695400696186\n",
      "Loss for  86 th iteration => 0.695275969335\n",
      "Loss for  87 th iteration => 0.695146776117\n",
      "Loss for  88 th iteration => 0.695014949743\n",
      "Loss for  89 th iteration => 0.694880464153\n",
      "Loss for  90 th iteration => 0.694743294013\n",
      "Loss for  91 th iteration => 0.69460341472\n",
      "Loss for  92 th iteration => 0.694460802415\n",
      "Loss for  93 th iteration => 0.694315433986\n",
      "Loss for  94 th iteration => 0.694167287078\n",
      "Loss for  95 th iteration => 0.694016340098\n",
      "Loss for  96 th iteration => 0.693862572228\n",
      "Loss for  97 th iteration => 0.693705963426\n",
      "Loss for  98 th iteration => 0.693546494435\n",
      "Loss for  99 th iteration => 0.693384146792\n",
      "Loss for  100 th iteration => 0.693218902831\n",
      "Loss for  101 th iteration => 0.693050745694\n",
      "Loss for  102 th iteration => 0.692879659333\n",
      "Loss for  103 th iteration => 0.692705628519\n",
      "Loss for  104 th iteration => 0.692528638846\n",
      "Loss for  105 th iteration => 0.692348676738\n",
      "Loss for  106 th iteration => 0.692165729455\n",
      "Loss for  107 th iteration => 0.691979785097\n",
      "Loss for  108 th iteration => 0.691790832608\n",
      "Loss for  109 th iteration => 0.691598861785\n",
      "Loss for  110 th iteration => 0.691403863276\n",
      "Loss for  111 th iteration => 0.691205828591\n",
      "Loss for  112 th iteration => 0.691004750102\n",
      "Loss for  113 th iteration => 0.690800621047\n",
      "Loss for  114 th iteration => 0.690593435534\n",
      "Loss for  115 th iteration => 0.690383188547\n",
      "Loss for  116 th iteration => 0.690169875942\n",
      "Loss for  117 th iteration => 0.689953494456\n",
      "Loss for  118 th iteration => 0.689734041706\n",
      "Loss for  119 th iteration => 0.689511516193\n",
      "Loss for  120 th iteration => 0.689285917301\n",
      "Loss for  121 th iteration => 0.689057245301\n",
      "Loss for  122 th iteration => 0.688825501349\n",
      "Loss for  123 th iteration => 0.68859068749\n",
      "Loss for  124 th iteration => 0.688352806655\n",
      "Loss for  125 th iteration => 0.688111862664\n",
      "Loss for  126 th iteration => 0.687867860224\n",
      "Loss for  127 th iteration => 0.687620804927\n",
      "Loss for  128 th iteration => 0.687370703251\n",
      "Loss for  129 th iteration => 0.687117562558\n",
      "Loss for  130 th iteration => 0.686861391094\n",
      "Loss for  131 th iteration => 0.68660219798\n",
      "Loss for  132 th iteration => 0.68633999322\n",
      "Loss for  133 th iteration => 0.686074787687\n",
      "Loss for  134 th iteration => 0.685806593131\n",
      "Loss for  135 th iteration => 0.685535422164\n",
      "Loss for  136 th iteration => 0.685261288265\n",
      "Loss for  137 th iteration => 0.684984205771\n",
      "Loss for  138 th iteration => 0.684704189874\n",
      "Loss for  139 th iteration => 0.684421256615\n",
      "Loss for  140 th iteration => 0.684135422879\n",
      "Loss for  141 th iteration => 0.683846706388\n",
      "Loss for  142 th iteration => 0.683555125699\n",
      "Loss for  143 th iteration => 0.68326070019\n",
      "Loss for  144 th iteration => 0.682963450061\n",
      "Loss for  145 th iteration => 0.68266339632\n",
      "Loss for  146 th iteration => 0.682360560782\n",
      "Loss for  147 th iteration => 0.682054966054\n",
      "Loss for  148 th iteration => 0.681746635532\n",
      "Loss for  149 th iteration => 0.681435593389\n",
      "Loss for  150 th iteration => 0.68112186457\n",
      "Loss for  151 th iteration => 0.680805474777\n",
      "Loss for  152 th iteration => 0.680486450463\n",
      "Loss for  153 th iteration => 0.680164818821\n",
      "Loss for  154 th iteration => 0.679840607776\n",
      "Loss for  155 th iteration => 0.679513845969\n",
      "Loss for  156 th iteration => 0.67918456275\n",
      "Loss for  157 th iteration => 0.678852788167\n",
      "Loss for  158 th iteration => 0.678518552951\n",
      "Loss for  159 th iteration => 0.678181888507\n",
      "Loss for  160 th iteration => 0.677842826902\n",
      "Loss for  161 th iteration => 0.67750140085\n",
      "Loss for  162 th iteration => 0.677157643701\n",
      "Loss for  163 th iteration => 0.676811589428\n",
      "Loss for  164 th iteration => 0.676463272612\n",
      "Loss for  165 th iteration => 0.676112728432\n",
      "Loss for  166 th iteration => 0.675759992647\n",
      "Loss for  167 th iteration => 0.675405101584\n",
      "Loss for  168 th iteration => 0.675048092125\n",
      "Loss for  169 th iteration => 0.67468900169\n",
      "Loss for  170 th iteration => 0.674327868223\n",
      "Loss for  171 th iteration => 0.673964730179\n",
      "Loss for  172 th iteration => 0.673599626506\n",
      "Loss for  173 th iteration => 0.673232596633\n",
      "Loss for  174 th iteration => 0.672863680451\n",
      "Loss for  175 th iteration => 0.6724929183\n",
      "Loss for  176 th iteration => 0.672120350953\n",
      "Loss for  177 th iteration => 0.671746019598\n",
      "Loss for  178 th iteration => 0.671369965826\n",
      "Loss for  179 th iteration => 0.67099223161\n",
      "Loss for  180 th iteration => 0.670612859294\n",
      "Loss for  181 th iteration => 0.670231891571\n",
      "Loss for  182 th iteration => 0.669849371471\n",
      "Loss for  183 th iteration => 0.669465342343\n",
      "Loss for  184 th iteration => 0.669079847839\n",
      "Loss for  185 th iteration => 0.668692931896\n",
      "Loss for  186 th iteration => 0.66830463872\n",
      "Loss for  187 th iteration => 0.667915024808\n",
      "Loss for  188 th iteration => 0.667515084983\n",
      "Loss for  189 th iteration => 0.667113700801\n",
      "Loss for  190 th iteration => 0.666710918646\n",
      "Loss for  191 th iteration => 0.666306785156\n",
      "Loss for  192 th iteration => 0.665901347209\n",
      "Loss for  193 th iteration => 0.665494651903\n",
      "Loss for  194 th iteration => 0.665086746536\n",
      "Loss for  195 th iteration => 0.664677678592\n",
      "Loss for  196 th iteration => 0.664267495717\n",
      "Loss for  197 th iteration => 0.663856245711\n",
      "Loss for  198 th iteration => 0.663443976498\n",
      "Loss for  199 th iteration => 0.663030736119\n",
      "Loss for  200 th iteration => 0.662616572708\n",
      "Loss for  201 th iteration => 0.662201534475\n",
      "Loss for  202 th iteration => 0.661785669693\n",
      "Loss for  203 th iteration => 0.661369026673\n",
      "Loss for  204 th iteration => 0.660951653754\n",
      "Loss for  205 th iteration => 0.660533599282\n",
      "Loss for  206 th iteration => 0.660114911594\n",
      "Loss for  207 th iteration => 0.659695639\n",
      "Loss for  208 th iteration => 0.659275829768\n",
      "Loss for  209 th iteration => 0.658855532106\n",
      "Loss for  210 th iteration => 0.658434794148\n",
      "Loss for  211 th iteration => 0.658013663935\n",
      "Loss for  212 th iteration => 0.657592189398\n"
     ]
    },
    {
     "name": "stdout",
     "output_type": "stream",
     "text": [
      "Loss for  213 th iteration => 0.657170418349\n",
      "Loss for  214 th iteration => 0.656748398457\n",
      "Loss for  215 th iteration => 0.656326177237\n",
      "Loss for  216 th iteration => 0.655903802036\n",
      "Loss for  217 th iteration => 0.655481320015\n",
      "Loss for  218 th iteration => 0.655058778135\n",
      "Loss for  219 th iteration => 0.654636223146\n",
      "Loss for  220 th iteration => 0.654213701567\n",
      "Loss for  221 th iteration => 0.653791259677\n",
      "Loss for  222 th iteration => 0.653368943499\n",
      "Loss for  223 th iteration => 0.652946798788\n",
      "Loss for  224 th iteration => 0.652524871016\n",
      "Loss for  225 th iteration => 0.652103205362\n",
      "Loss for  226 th iteration => 0.651681846696\n",
      "Loss for  227 th iteration => 0.651260839569\n",
      "Loss for  228 th iteration => 0.650840228201\n",
      "Loss for  229 th iteration => 0.65042005647\n",
      "Loss for  230 th iteration => 0.650000367898\n",
      "Loss for  231 th iteration => 0.649581205642\n",
      "Loss for  232 th iteration => 0.649162612483\n",
      "Loss for  233 th iteration => 0.648744630817\n",
      "Loss for  234 th iteration => 0.648327302641\n",
      "Loss for  235 th iteration => 0.647910669547\n",
      "Loss for  236 th iteration => 0.64749477271\n",
      "Loss for  237 th iteration => 0.647079652881\n",
      "Loss for  238 th iteration => 0.646665350377\n",
      "Loss for  239 th iteration => 0.646251905073\n",
      "Loss for  240 th iteration => 0.645839356392\n",
      "Loss for  241 th iteration => 0.645427743299\n",
      "Loss for  242 th iteration => 0.645017104293\n",
      "Loss for  243 th iteration => 0.644607477401\n",
      "Loss for  244 th iteration => 0.644198900168\n",
      "Loss for  245 th iteration => 0.643791409652\n",
      "Loss for  246 th iteration => 0.64338504242\n",
      "Loss for  247 th iteration => 0.642979834537\n",
      "Loss for  248 th iteration => 0.642575821565\n",
      "Loss for  249 th iteration => 0.642173038555\n",
      "Loss for  250 th iteration => 0.641771520045\n",
      "Loss for  251 th iteration => 0.641371300049\n",
      "Loss for  252 th iteration => 0.64097241206\n",
      "Loss for  253 th iteration => 0.64057488904\n",
      "Loss for  254 th iteration => 0.640178763421\n",
      "Loss for  255 th iteration => 0.639784067098\n",
      "Loss for  256 th iteration => 0.639390831427\n",
      "Loss for  257 th iteration => 0.63899908722\n",
      "Loss for  258 th iteration => 0.638608864747\n",
      "Loss for  259 th iteration => 0.63822019373\n",
      "Loss for  260 th iteration => 0.63783310334\n",
      "Loss for  261 th iteration => 0.637447622198\n",
      "Loss for  262 th iteration => 0.637063778374\n",
      "Loss for  263 th iteration => 0.63668159938\n",
      "Loss for  264 th iteration => 0.636301112177\n",
      "Loss for  265 th iteration => 0.635922343167\n",
      "Loss for  266 th iteration => 0.635545318198\n",
      "Loss for  267 th iteration => 0.635170062559\n",
      "Loss for  268 th iteration => 0.634796600983\n",
      "Loss for  269 th iteration => 0.634424957647\n",
      "Loss for  270 th iteration => 0.634055156172\n",
      "Loss for  271 th iteration => 0.633687219622\n",
      "Loss for  272 th iteration => 0.633321170507\n",
      "Loss for  273 th iteration => 0.632957030785\n",
      "Loss for  274 th iteration => 0.632594821858\n",
      "Loss for  275 th iteration => 0.63223456458\n",
      "Loss for  276 th iteration => 0.631876279256\n",
      "Loss for  277 th iteration => 0.631519985642\n",
      "Loss for  278 th iteration => 0.63116570295\n",
      "Loss for  279 th iteration => 0.630813449849\n",
      "Loss for  280 th iteration => 0.630463244467\n",
      "Loss for  281 th iteration => 0.630115104394\n",
      "Loss for  282 th iteration => 0.629769046686\n",
      "Loss for  283 th iteration => 0.629425087866\n",
      "Loss for  284 th iteration => 0.629083243928\n",
      "Loss for  285 th iteration => 0.628743530341\n",
      "Loss for  286 th iteration => 0.62840596205\n",
      "Loss for  287 th iteration => 0.628070553483\n",
      "Loss for  288 th iteration => 0.627737318552\n",
      "Loss for  289 th iteration => 0.627406270657\n",
      "Loss for  290 th iteration => 0.627077422692\n",
      "Loss for  291 th iteration => 0.626750787047\n",
      "Loss for  292 th iteration => 0.626426375611\n",
      "Loss for  293 th iteration => 0.626104199782\n",
      "Loss for  294 th iteration => 0.625784270464\n",
      "Loss for  295 th iteration => 0.625466598077\n",
      "Loss for  296 th iteration => 0.625151192558\n",
      "Loss for  297 th iteration => 0.624838063368\n",
      "Loss for  298 th iteration => 0.624527219497\n",
      "Loss for  299 th iteration => 0.624218669465\n",
      "Loss for  300 th iteration => 0.623912421333\n",
      "Loss for  301 th iteration => 0.623608482702\n",
      "Loss for  302 th iteration => 0.623306860723\n",
      "Loss for  303 th iteration => 0.623007562098\n",
      "Loss for  304 th iteration => 0.622710593089\n",
      "Loss for  305 th iteration => 0.622415959518\n",
      "Loss for  306 th iteration => 0.622123666779\n",
      "Loss for  307 th iteration => 0.621833719838\n",
      "Loss for  308 th iteration => 0.621546123242\n",
      "Loss for  309 th iteration => 0.62126088112\n",
      "Loss for  310 th iteration => 0.620977997193\n",
      "Loss for  311 th iteration => 0.620697474777\n",
      "Loss for  312 th iteration => 0.620419316789\n",
      "Loss for  313 th iteration => 0.620143525753\n",
      "Loss for  314 th iteration => 0.619870103805\n",
      "Loss for  315 th iteration => 0.619599052698\n",
      "Loss for  316 th iteration => 0.619330373809\n",
      "Loss for  317 th iteration => 0.619064068144\n",
      "Loss for  318 th iteration => 0.618800136343\n",
      "Loss for  319 th iteration => 0.618538578685\n",
      "Loss for  320 th iteration => 0.618279395098\n",
      "Loss for  321 th iteration => 0.618022585158\n",
      "Loss for  322 th iteration => 0.617768148098\n",
      "Loss for  323 th iteration => 0.617516082815\n",
      "Loss for  324 th iteration => 0.617266387874\n",
      "Loss for  325 th iteration => 0.617019061512\n",
      "Loss for  326 th iteration => 0.616774101646\n",
      "Loss for  327 th iteration => 0.616531505878\n",
      "Loss for  328 th iteration => 0.6162912715\n",
      "Loss for  329 th iteration => 0.6160533955\n",
      "Loss for  330 th iteration => 0.615817874565\n",
      "Loss for  331 th iteration => 0.615584705092\n",
      "Loss for  332 th iteration => 0.615353883188\n",
      "Loss for  333 th iteration => 0.615125404678\n",
      "Loss for  334 th iteration => 0.61489926511\n",
      "Loss for  335 th iteration => 0.614675459759\n",
      "Loss for  336 th iteration => 0.614453983635\n",
      "Loss for  337 th iteration => 0.614234831486\n",
      "Loss for  338 th iteration => 0.614017997804\n",
      "Loss for  339 th iteration => 0.61380347683\n",
      "Loss for  340 th iteration => 0.613591262561\n",
      "Loss for  341 th iteration => 0.613381348751\n",
      "Loss for  342 th iteration => 0.61317372892\n",
      "Loss for  343 th iteration => 0.612968396357\n",
      "Loss for  344 th iteration => 0.612765344126\n",
      "Loss for  345 th iteration => 0.612564565071\n",
      "Loss for  346 th iteration => 0.61236605182\n",
      "Loss for  347 th iteration => 0.61216979679\n",
      "Loss for  348 th iteration => 0.611975792193\n",
      "Loss for  349 th iteration => 0.611784030038\n",
      "Loss for  350 th iteration => 0.611594502141\n",
      "Loss for  351 th iteration => 0.611407200123\n",
      "Loss for  352 th iteration => 0.611222115421\n",
      "Loss for  353 th iteration => 0.611039239287\n",
      "Loss for  354 th iteration => 0.610858562796\n",
      "Loss for  355 th iteration => 0.610680076849\n",
      "Loss for  356 th iteration => 0.610503772181\n",
      "Loss for  357 th iteration => 0.610329639359\n",
      "Loss for  358 th iteration => 0.61015766879\n",
      "Loss for  359 th iteration => 0.609987850726\n",
      "Loss for  360 th iteration => 0.609820175269\n",
      "Loss for  361 th iteration => 0.60965463237\n",
      "Loss for  362 th iteration => 0.609491211838\n",
      "Loss for  363 th iteration => 0.609329903343\n",
      "Loss for  364 th iteration => 0.60917069642\n",
      "Loss for  365 th iteration => 0.609013580471\n",
      "Loss for  366 th iteration => 0.608858544772\n",
      "Loss for  367 th iteration => 0.608705578476\n",
      "Loss for  368 th iteration => 0.608554670614\n",
      "Loss for  369 th iteration => 0.608405810102\n",
      "Loss for  370 th iteration => 0.608258985745\n",
      "Loss for  371 th iteration => 0.608114186238\n",
      "Loss for  372 th iteration => 0.607971400171\n",
      "Loss for  373 th iteration => 0.607830616034\n",
      "Loss for  374 th iteration => 0.607691822216\n",
      "Loss for  375 th iteration => 0.607555007016\n",
      "Loss for  376 th iteration => 0.607420158638\n",
      "Loss for  377 th iteration => 0.6072872652\n",
      "Loss for  378 th iteration => 0.607156314735\n",
      "Loss for  379 th iteration => 0.607027295197\n",
      "Loss for  380 th iteration => 0.606900194459\n",
      "Loss for  381 th iteration => 0.606775000322\n",
      "Loss for  382 th iteration => 0.606651700513\n",
      "Loss for  383 th iteration => 0.606530282692\n",
      "Loss for  384 th iteration => 0.606410734453\n",
      "Loss for  385 th iteration => 0.606293043328\n",
      "Loss for  386 th iteration => 0.606177196789\n",
      "Loss for  387 th iteration => 0.606063182251\n",
      "Loss for  388 th iteration => 0.605950987075\n",
      "Loss for  389 th iteration => 0.605840598573\n",
      "Loss for  390 th iteration => 0.605732004006\n",
      "Loss for  391 th iteration => 0.60562519059\n",
      "Loss for  392 th iteration => 0.605520145499\n",
      "Loss for  393 th iteration => 0.605416855865\n",
      "Loss for  394 th iteration => 0.605315308785\n",
      "Loss for  395 th iteration => 0.605215491318\n",
      "Loss for  396 th iteration => 0.605117390491\n",
      "Loss for  397 th iteration => 0.605020993302\n",
      "Loss for  398 th iteration => 0.604926286719\n",
      "Loss for  399 th iteration => 0.604833257686\n",
      "Loss for  400 th iteration => 0.604741893124\n",
      "Loss for  401 th iteration => 0.60465217993\n",
      "Loss for  402 th iteration => 0.604564104987\n",
      "Loss for  403 th iteration => 0.604477655157\n",
      "Loss for  404 th iteration => 0.604392817292\n",
      "Loss for  405 th iteration => 0.604309578228\n",
      "Loss for  406 th iteration => 0.604227924792\n",
      "Loss for  407 th iteration => 0.604147843805\n",
      "Loss for  408 th iteration => 0.604069322079\n",
      "Loss for  409 th iteration => 0.603992346424\n",
      "Loss for  410 th iteration => 0.603916903646\n",
      "Loss for  411 th iteration => 0.603842980553\n",
      "Loss for  412 th iteration => 0.603770563954\n",
      "Loss for  413 th iteration => 0.603699640659\n",
      "Loss for  414 th iteration => 0.603630197486\n",
      "Loss for  415 th iteration => 0.603562221261\n",
      "Loss for  416 th iteration => 0.603495698815\n",
      "Loss for  417 th iteration => 0.603430616993\n",
      "Loss for  418 th iteration => 0.60336696265\n",
      "Loss for  419 th iteration => 0.603304722656\n",
      "Loss for  420 th iteration => 0.603243883897\n",
      "Loss for  421 th iteration => 0.603184433273\n",
      "Loss for  422 th iteration => 0.603126357707\n",
      "Loss for  423 th iteration => 0.603069644138\n",
      "Loss for  424 th iteration => 0.603014279529\n",
      "Loss for  425 th iteration => 0.602960250865\n",
      "Loss for  426 th iteration => 0.602907545156\n",
      "Loss for  427 th iteration => 0.602856149438\n",
      "Loss for  428 th iteration => 0.602806050773\n",
      "Loss for  429 th iteration => 0.602757236252\n",
      "Loss for  430 th iteration => 0.602709692998\n",
      "Loss for  431 th iteration => 0.602663408162\n",
      "Loss for  432 th iteration => 0.602618368929\n",
      "Loss for  433 th iteration => 0.602574562519\n",
      "Loss for  434 th iteration => 0.602531976183\n",
      "Loss for  435 th iteration => 0.602490597212\n",
      "Loss for  436 th iteration => 0.602450412932\n",
      "Loss for  437 th iteration => 0.602411410709\n",
      "Loss for  438 th iteration => 0.602373577948\n",
      "Loss for  439 th iteration => 0.602336902092\n",
      "Loss for  440 th iteration => 0.602301370629\n",
      "Loss for  441 th iteration => 0.602266971089\n",
      "Loss for  442 th iteration => 0.602233691044\n",
      "Loss for  443 th iteration => 0.602201518113\n",
      "Loss for  444 th iteration => 0.602170439958\n",
      "Loss for  445 th iteration => 0.60214044429\n",
      "Loss for  446 th iteration => 0.602111518866\n",
      "Loss for  447 th iteration => 0.602083651492\n"
     ]
    },
    {
     "name": "stdout",
     "output_type": "stream",
     "text": [
      "Loss for  448 th iteration => 0.602056830024\n",
      "Loss for  449 th iteration => 0.602031042366\n",
      "Loss for  450 th iteration => 0.602006276476\n",
      "Loss for  451 th iteration => 0.601982520361\n",
      "Loss for  452 th iteration => 0.601959762083\n",
      "Loss for  453 th iteration => 0.601937989755\n",
      "Loss for  454 th iteration => 0.601917191546\n",
      "Loss for  455 th iteration => 0.60189735568\n",
      "Loss for  456 th iteration => 0.601878470434\n",
      "Loss for  457 th iteration => 0.601860524146\n",
      "Loss for  458 th iteration => 0.601843505206\n",
      "Loss for  459 th iteration => 0.601827402065\n",
      "Loss for  460 th iteration => 0.601812203231\n",
      "Loss for  461 th iteration => 0.601797897272\n",
      "Loss for  462 th iteration => 0.601784472813\n",
      "Loss for  463 th iteration => 0.601771918543\n",
      "Loss for  464 th iteration => 0.601760223208\n",
      "Loss for  465 th iteration => 0.601749375618\n",
      "Loss for  466 th iteration => 0.601739364644\n",
      "Loss for  467 th iteration => 0.601730179218\n",
      "Loss for  468 th iteration => 0.601721808336\n",
      "Loss for  469 th iteration => 0.601714241058\n",
      "Loss for  470 th iteration => 0.601707466507\n",
      "Loss for  471 th iteration => 0.60170147387\n",
      "Loss for  472 th iteration => 0.601696252399\n",
      "Loss for  473 th iteration => 0.601691791412\n",
      "Loss for  474 th iteration => 0.601688080292\n",
      "Loss for  475 th iteration => 0.601685108487\n",
      "Loss for  476 th iteration => 0.601682865513\n",
      "Loss for  477 th iteration => 0.601681340951\n",
      "Loss for  478 th iteration => 0.60168052445\n",
      "Loss for  479 th iteration => 0.601680405727\n",
      "Loss for  480 th iteration => 0.601680974565\n",
      "Loss for  481 th iteration => 0.601682220818\n",
      "Loss for  482 th iteration => 0.601684134405\n",
      "Loss for  483 th iteration => 0.601686705315\n",
      "Loss for  484 th iteration => 0.601689923607\n",
      "Loss for  485 th iteration => 0.601693779407\n",
      "Loss for  486 th iteration => 0.601698262913\n",
      "Loss for  487 th iteration => 0.601703364389\n",
      "Loss for  488 th iteration => 0.601709074174\n",
      "Loss for  489 th iteration => 0.601715382672\n",
      "Loss for  490 th iteration => 0.601722280359\n",
      "Loss for  491 th iteration => 0.601729757783\n",
      "Loss for  492 th iteration => 0.601737805561\n",
      "Loss for  493 th iteration => 0.601746414381\n",
      "Loss for  494 th iteration => 0.601755575002\n",
      "Loss for  495 th iteration => 0.601765278255\n",
      "Loss for  496 th iteration => 0.601775515039\n",
      "Loss for  497 th iteration => 0.601786276328\n",
      "Loss for  498 th iteration => 0.601797553166\n",
      "Loss for  499 th iteration => 0.601809336668\n"
     ]
    }
   ],
   "source": [
    "\n",
    "for i in range(numiter):\n",
    "    Z1 = np.dot(W1,X) + b1\n",
    "    A1 = relu(Z1,play = \"forward\")\n",
    "    Z2 = np.dot(W2,A1) + b2\n",
    "    A2 = sigmoid(Z2,play = \"forward\")\n",
    "   \n",
    "    L = (1.0/m) * -np.sum(np.multiply(y,np.log(A2)) + np.multiply(1-y,np.log(1-A2)))\n",
    "    \n",
    "    dZ2 = A2 - y\n",
    "    dZ1 = np.multiply(np.dot(W2.T,dZ2),relu(A1,play=\"backward\"))\n",
    "    dW2 = (1.0/m) * np.dot(dZ2,A1.T)\n",
    "    db2 = (1.0/m) * np.sum(dZ2,axis = 1,keepdims = True)\n",
    "    dW1 = (1.0/m) * np.dot(dZ1,X.T)\n",
    "    db1 = (1.0/m) * np.sum(dZ1,axis = 1,keepdims = True)\n",
    "    W1 = W1 - learningrate * dW1\n",
    "    b1 = b1 - learningrate * db1\n",
    "    W2 = W2 - learningrate * dW2\n",
    "    b2 = b2 - learningrate* db2\n",
    "    print \"Loss for \",i,\"th iteration =>\",L"
   ]
  },
  {
   "cell_type": "code",
   "execution_count": 15,
   "metadata": {},
   "outputs": [],
   "source": [
    "##Predictions\n",
    "\n",
    "\n",
    "def prediction(X,W1,b1,W2,b2):\n",
    "    Z1pred = np.dot(W1,X) + b1\n",
    "    A1pred = relu(Z1pred,play = \"forward\")\n",
    "    Z2pred = np.dot(W2,A1pred) + b2\n",
    "    A2pred = sigmoid(Z2pred,play = \"forward\")\n",
    "    prediction = []\n",
    "\n",
    "\n",
    "    for i in range(A2pred.shape[1]):\n",
    "        if (A2pred[0][i]>0.5):\n",
    "            prediction.append(1)\n",
    "        elif (A2pred[0][i] <= 0.5):\n",
    "            prediction.append(0)\n",
    "    N = len(prediction)\n",
    "    prediction = np.array(prediction)\n",
    "    prediction =prediction.reshape(1,N)\n",
    "    \n",
    "    return prediction"
   ]
  },
  {
   "cell_type": "markdown",
   "metadata": {},
   "source": [
    "### Prediction for Train data"
   ]
  },
  {
   "cell_type": "code",
   "execution_count": 16,
   "metadata": {},
   "outputs": [],
   "source": [
    "predictionTrain = prediction(X,W1,b1,W2,b2)\n"
   ]
  },
  {
   "cell_type": "code",
   "execution_count": 17,
   "metadata": {},
   "outputs": [],
   "source": [
    "Truelabel = y\n"
   ]
  },
  {
   "cell_type": "markdown",
   "metadata": {},
   "source": [
    "### Predicted Label and True label"
   ]
  },
  {
   "cell_type": "code",
   "execution_count": 18,
   "metadata": {},
   "outputs": [
    {
     "name": "stdout",
     "output_type": "stream",
     "text": [
      "prediction label for traindata: [[0 0 0 0 0 0 0 0 0 0 0 0 0 0 0 0 0 0 0 0 0 0 0 0 0 0 0 0 0 0 0 0 0 0 0 0 0\n",
      "  0 0 0 0 0 0 0 0 0 0 0 0 0 1 1 1 1 1 1 1 1 1 1 1 1 1 1 1 1 1 1 1 1 1 1 1 1\n",
      "  1 1 1 1 1 1 1 1 1 1 1 1 1 1 1 1 1 1 1 1 1 1 1 1 1 1]]\n",
      "True label for train data: [[ 0.  0.  0.  0.  0.  0.  0.  0.  0.  0.  0.  0.  0.  0.  0.  0.  0.  0.\n",
      "   0.  0.  0.  0.  0.  0.  0.  0.  0.  0.  0.  0.  0.  0.  0.  0.  0.  0.\n",
      "   0.  0.  0.  0.  0.  0.  0.  0.  0.  0.  0.  0.  0.  0.  1.  1.  1.  1.\n",
      "   1.  1.  1.  1.  1.  1.  1.  1.  1.  1.  1.  1.  1.  1.  1.  1.  1.  1.\n",
      "   1.  1.  1.  1.  1.  1.  1.  1.  1.  1.  1.  1.  1.  1.  1.  1.  1.  1.\n",
      "   1.  1.  1.  1.  1.  1.  1.  1.  1.  1.]]\n"
     ]
    }
   ],
   "source": [
    "print \"prediction label for traindata:\",predictionTrain\n",
    "print \"True label for train data:\", Truelabel"
   ]
  },
  {
   "cell_type": "markdown",
   "metadata": {},
   "source": [
    "### Creating Test data"
   ]
  },
  {
   "cell_type": "code",
   "execution_count": 19,
   "metadata": {},
   "outputs": [],
   "source": [
    "Tc1 = [3,4]\n",
    "Tc2 = [14,16]\n",
    "TClass1 = np.matlib.repmat(Tc1, no,1) + np.random.randn(no,len(c1))\n",
    "TClass2 = np.matlib.repmat(Tc2, no,1) + np.random.randn(no,len(c2))\n",
    "TData = np.append(TClass1,TClass2,axis = 0)\n",
    "Testlabel  = np.append(np.zeros((no,1)),np.ones((no,1)),axis = 0)\n",
    "X2 = TData.T\n",
    "y2 = Testlabel.T"
   ]
  },
  {
   "cell_type": "markdown",
   "metadata": {},
   "source": [
    "### Plotting the test data"
   ]
  },
  {
   "cell_type": "code",
   "execution_count": 20,
   "metadata": {},
   "outputs": [
    {
     "data": {
      "image/png": "[encoded data removed]",
      "text/plain": [
       "<matplotlib.figure.Figure at 0x7ffb3b68b110>"
      ]
     },
     "metadata": {},
     "output_type": "display_data"
    }
   ],
   "source": [
    "import matplotlib.pyplot as plt\n",
    "plt.plot(TClass1[:,0],TClass1[:,1],'ro')\n",
    "plt.plot(TClass2[:,0],TClass2[:,1],'bo')\n",
    "\n",
    "plt.ylabel('Data')\n",
    "plt.show()"
   ]
  },
  {
   "cell_type": "code",
   "execution_count": 21,
   "metadata": {},
   "outputs": [
    {
     "name": "stdout",
     "output_type": "stream",
     "text": [
      "prediction label for testndata: [[0 0 0 0 0 0 0 0 0 0 0 0 0 0 0 0 0 0 0 0 0 0 0 0 0 0 0 0 0 0 0 0 0 0 0 0 0\n",
      "  0 0 0 0 0 0 0 0 0 0 0 0 0 1 1 1 1 1 1 1 1 1 1 1 1 1 1 1 1 1 1 1 1 1 1 1 1\n",
      "  1 1 1 1 1 1 1 1 1 1 1 1 1 1 1 1 1 1 1 1 1 1 1 1 1 1]]\n",
      "True label for test data: [[ 0.  0.  0.  0.  0.  0.  0.  0.  0.  0.  0.  0.  0.  0.  0.  0.  0.  0.\n",
      "   0.  0.  0.  0.  0.  0.  0.  0.  0.  0.  0.  0.  0.  0.  0.  0.  0.  0.\n",
      "   0.  0.  0.  0.  0.  0.  0.  0.  0.  0.  0.  0.  0.  0.  1.  1.  1.  1.\n",
      "   1.  1.  1.  1.  1.  1.  1.  1.  1.  1.  1.  1.  1.  1.  1.  1.  1.  1.\n",
      "   1.  1.  1.  1.  1.  1.  1.  1.  1.  1.  1.  1.  1.  1.  1.  1.  1.  1.\n",
      "   1.  1.  1.  1.  1.  1.  1.  1.  1.  1.]]\n"
     ]
    }
   ],
   "source": [
    "predictionTest = prediction(X2,W1,b1,W2,b2)\n",
    "print \"prediction label for testndata:\",predictionTest\n",
    "print \"True label for test data:\",y2"
   ]
  },
  {
   "cell_type": "code",
   "execution_count": 22,
   "metadata": {},
   "outputs": [],
   "source": [
    "y_pred = np.array(predictionTest)\n",
    "y_pred = y_pred.astype(int)\n",
    "y_true = np.array(y2)\n",
    "y_true = y_true.astype(int)"
   ]
  },
  {
   "cell_type": "code",
   "execution_count": 23,
   "metadata": {},
   "outputs": [],
   "source": [
    "from sklearn.metrics import confusion_matrix\n",
    "cm = confusion_matrix(y_true[0],y_pred[0])\n",
    "cm = cm.astype(float)\n"
   ]
  },
  {
   "cell_type": "code",
   "execution_count": 24,
   "metadata": {},
   "outputs": [
    {
     "name": "stdout",
     "output_type": "stream",
     "text": [
      "Accuracy: 100.0 %\n"
     ]
    }
   ],
   "source": [
    "Accuracy = (cm[0,0]+cm[1,1])/(cm[0,0]+cm[0,1]+cm[1,0]+cm[1,1])\n",
    "print \"Accuracy:\",Accuracy*100,\"%\""
   ]
  },
  {
   "cell_type": "code",
   "execution_count": 25,
   "metadata": {},
   "outputs": [
    {
     "data": {
      "text/plain": [
       "array([[ 50.,   0.],\n",
       "       [  0.,  50.]])"
      ]
     },
     "execution_count": 25,
     "metadata": {},
     "output_type": "execute_result"
    }
   ],
   "source": [
    "cm"
   ]
  },
  {
   "cell_type": "code",
   "execution_count": null,
   "metadata": {},
   "outputs": [],
   "source": []
  }
 ],
 "metadata": {
  "kernelspec": {
   "display_name": "Python 2",
   "language": "python",
   "name": "python2"
  },
  "language_info": {
   "codemirror_mode": {
    "name": "ipython",
    "version": 2
   },
   "file_extension": ".py",
   "mimetype": "text/x-python",
   "name": "python",
   "nbconvert_exporter": "python",
   "pygments_lexer": "ipython2",
   "version": "2.7.6"
  }
 },
 "nbformat": 4,
 "nbformat_minor": 2
}
